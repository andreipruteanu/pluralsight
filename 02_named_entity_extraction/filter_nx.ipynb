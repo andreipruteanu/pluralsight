{
 "cells": [
  {
   "cell_type": "code",
   "execution_count": 71,
   "metadata": {},
   "outputs": [],
   "source": [
    "import networkx as nx\n",
    "import matplotlib.pyplot as plt"
   ]
  },
  {
   "cell_type": "code",
   "execution_count": 78,
   "metadata": {},
   "outputs": [],
   "source": [
    "DG = nx.DiGraph()\n",
    "DG.add_weighted_edges_from([('bla1', 'bla2', 0.5), ('bla3', 'bla1', 0.75), ('bla4', 'bla5', 0.5)])"
   ]
  },
  {
   "cell_type": "code",
   "execution_count": 79,
   "metadata": {},
   "outputs": [
    {
     "data": {
      "image/png": "[encoded data removed]",
      "text/plain": [
       "<Figure size 432x288 with 1 Axes>"
      ]
     },
     "metadata": {},
     "output_type": "display_data"
    }
   ],
   "source": [
    "nx.draw(DG, with_labels=True, font_weight='bold')"
   ]
  },
  {
   "cell_type": "code",
   "execution_count": 80,
   "metadata": {},
   "outputs": [],
   "source": [
    "def filter_graph(graph, node_ids_to_keep, mode='remove'):\n",
    "    res = graph\n",
    "    edges_to_keep = []\n",
    "    \n",
    "    # find edges to keep - ones pointing to node_ids_to_keep\n",
    "    for node in node_ids_to_keep:\n",
    "        edges_to_keep.extend(res.in_edges(node))\n",
    "    \n",
    "    # find edges to remove: ones that do not point to nodes_ids_to_keep\n",
    "    edges_to_remove = set(graph.edges) - set(edges_to_keep)\n",
    "\n",
    "    # actually remove those edges\n",
    "    for edge in edges_to_remove:\n",
    "        res.remove_edge(*edge)\n",
    "\n",
    "    # find nodes with no in/out edges (0 edges)\n",
    "    nodes_to_remove = [node_id for (node_id, degree) in res.degree() if degree == 0]\n",
    "    \n",
    "    # actually remove those nodes\n",
    "    for node_id in nodes_to_remove:\n",
    "        res.remove_node(node_id)\n",
    "\n",
    "    return res"
   ]
  },
  {
   "cell_type": "code",
   "execution_count": 82,
   "metadata": {},
   "outputs": [],
   "source": [
    "DG_filt = filter_graph(DG, ['bla1'])"
   ]
  },
  {
   "cell_type": "code",
   "execution_count": 83,
   "metadata": {},
   "outputs": [
    {
     "data": {
      "image/png": "[encoded data removed]",
      "text/plain": [
       "<Figure size 432x288 with 1 Axes>"
      ]
     },
     "metadata": {},
     "output_type": "display_data"
    }
   ],
   "source": [
    "nx.draw(DG_filt, with_labels=True, font_weight='bold')"
   ]
  },
  {
   "cell_type": "code",
   "execution_count": null,
   "metadata": {},
   "outputs": [],
   "source": []
  },
  {
   "cell_type": "code",
   "execution_count": null,
   "metadata": {},
   "outputs": [],
   "source": []
  }
 ],
 "metadata": {
  "kernelspec": {
   "display_name": "Python 3",
   "language": "python",
   "name": "python3"
  },
  "language_info": {
   "codemirror_mode": {
    "name": "ipython",
    "version": 3
   },
   "file_extension": ".py",
   "mimetype": "text/x-python",
   "name": "python",
   "nbconvert_exporter": "python",
   "pygments_lexer": "ipython3",
   "version": "3.7.5"
  }
 },
 "nbformat": 4,
 "nbformat_minor": 4
}
